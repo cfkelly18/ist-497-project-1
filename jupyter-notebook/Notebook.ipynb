{
 "cells": [
  {
   "cell_type": "markdown",
   "metadata": {},
   "source": [
    "# Feature Selection\n",
    "\n",
    "* Coleman-Liau score (CLScore)\n",
    "* RIX and LIX indices\n",
    "* Formality measure (fmeasure)\n",
    "* Number of uppercase words, presence of questionmarks and exclamation marks in headlines (titles), and the length of the title (number of words) are the most important content features\n",
    "\n",
    "\n",
    "* The character n-gram features and the word 1-gram feature appear to contribute most to performance\n",
    "    * Character n-grams are known to capture writing style\n",
    "\n",
    "\n",
    "* headline: word count\n",
    "* body: 1. Informality: We compute the frequencies of two informality indicators, namely internet slang and bait words. Additionally, the length of news bodies is also an input feature.\n",
    "\n",
    "\n",
    "* Sent length, word length, ratio of stop words to content words"
   ]
  },
  {
   "cell_type": "code",
   "execution_count": 1,
   "metadata": {},
   "outputs": [
    {
     "name": "stdout",
     "output_type": "stream",
     "text": [
      "                                                postText    truthClass\n",
      "0      Apple's iOS 9 'App thinning' feature will give...  no-clickbait\n",
      "1      RT @kenbrown12: Emerging market investors are ...  no-clickbait\n",
      "2      U.S. Soccer should start answering tough quest...     clickbait\n",
      "3      How theme parks like Disney World left the mid...  no-clickbait\n",
      "4      Could light bulbs hurt your health? One compan...     clickbait\n",
      "5      13 classic ’00s songs that were actually meant...     clickbait\n",
      "6      Dez Bryant is reportedly considering skipping ...  no-clickbait\n",
      "7      Pregnant mother of 12 accused of keeping kids ...  no-clickbait\n",
      "8      RT @fionamatthias: 10 ways the expat life Is l...  no-clickbait\n",
      "9      House #GOP plans two days of debate, Friday sh...  no-clickbait\n",
      "10     Azeri government behind foreign media ban, say...  no-clickbait\n",
      "11     Only one in three of us complain when we are u...  no-clickbait\n",
      "12     An open letter to Jerry Seinfeld from a \"polit...  no-clickbait\n",
      "13     Britain forced to withdraw spies after Russia ...  no-clickbait\n",
      "14     Tourists detained in Malaysia for getting nake...     clickbait\n",
      "15     RT @PhilipRucker: Jeb's super PAC unlikely to ...  no-clickbait\n",
      "16     John Rohatinsky backs drug allegations made ag...  no-clickbait\n",
      "17     Chinese women are growing their armpit hair li...  no-clickbait\n",
      "18      The brutal dictatorship the world keeps ignoring     clickbait\n",
      "19     RT @BBCWalesNews: Caerphilly farmer may get pa...     clickbait\n",
      "20     RT @TheFix: The president's 'bully pulpit' is ...  no-clickbait\n",
      "21         Man dies when car plunges from parking garage     clickbait\n",
      "22     5 inconsistencies in 'Jurassic World' that wil...     clickbait\n",
      "23     Why Christopher Lee made villainy sexy: via @C...  no-clickbait\n",
      "24     Greece nearing compromise deal on EU debts, sa...  no-clickbait\n",
      "25     A hero dog leapt in front of a school bus to p...  no-clickbait\n",
      "26     Breaking News: House Rejects Trade Bills, as D...  no-clickbait\n",
      "27     Pornhub is trying to make the first sex tape i...  no-clickbait\n",
      "28     RT @BuzzFeedAnimals: What it’s like to grow up...  no-clickbait\n",
      "29     A tour of the Earth, through the lens of an as...  no-clickbait\n",
      "...                                                  ...           ...\n",
      "17551  Jenni Murray: 'I want to see how women run the...  no-clickbait\n",
      "17552  Six million Americans have stopped paying thei...  no-clickbait\n",
      "17553  .@MelbourneCity limps to 1-1 A-League draw wit...  no-clickbait\n",
      "17554  Martin Shkreli price-hike drug Daraprim reprod...  no-clickbait\n",
      "17555   24-hour work shifts can wreak havoc on the heart     clickbait\n",
      "17556  US general accuses Russia, Iran of boosting Ta...  no-clickbait\n",
      "17557  How AI could stop those awkward moments when y...     clickbait\n",
      "17558  Suspect in the shooting of Joe McKnight was re...  no-clickbait\n",
      "17559  'They're sold like shoes': #Cambodia's buildin...     clickbait\n",
      "17560  Formula One's most valuable teams:\\n\\n1. Ferra...  no-clickbait\n",
      "17561  How @realaminablue went from video vixen to @K...  no-clickbait\n",
      "17562  Fund NHS entirely with National Insurance, Lab...  no-clickbait\n",
      "17563  .@aamir_khan's fitness journey for #Dangal - R...  no-clickbait\n",
      "17564  Quick-thinking pedestrians extinguish a lorry ...  no-clickbait\n",
      "17565  Rate ripoff: Some families are paying over $1,...     clickbait\n",
      "17566  2,000-year-old preserved body of the Lady of D...  no-clickbait\n",
      "17567  Obama says the U.S. is divided because 'people...  no-clickbait\n",
      "17568  Current and former NFL players shared their fe...  no-clickbait\n",
      "17569  #TheApprentice: the double firing was unfair, ...  no-clickbait\n",
      "17570  Former Jets, USC RB Joe McKnight fatally shot ...  no-clickbait\n",
      "17571  Country music star Luke Bryan hits back at 'in...  no-clickbait\n",
      "17572                        We'll always have Newsweek.     clickbait\n",
      "17573  What to do if your Android's been hit by the G...  no-clickbait\n",
      "17574  18 uplifting documentaries guaranteed to put a...     clickbait\n",
      "17575  The MLB All-Star game will no longer determine...  no-clickbait\n",
      "17576  Just one glass of white a day can raise risk o...  no-clickbait\n",
      "17577  12 things you realize at the end of a relation...     clickbait\n",
      "17578                                     😱😱😱😱😱😱😱😱😱😱😱😱😱😱     clickbait\n",
      "17579  Frenchs Forest high school may have to make wa...  no-clickbait\n",
      "17580                                     Oh Jeff… #bruh  no-clickbait\n",
      "\n",
      "[17581 rows x 2 columns]\n"
     ]
    }
   ],
   "source": [
    "# get the data\n",
    "\n",
    "import json\n",
    "import os\n",
    "import pandas as pd\n",
    "\n",
    "# https://github.com/ipython/ipython/issues/10123\n",
    "directory_path = os.getcwd()\n",
    "dataset_no_figures_path = directory_path + '/../data/dataset_no_figures/'\n",
    "\n",
    "truth_classes = {}\n",
    "\n",
    "with open(dataset_no_figures_path + 'truth_train.jsonl') as f:\n",
    "    for line in f:\n",
    "        truth = json.loads(line)\n",
    "        truth_classes[truth['id']] = truth['truthClass']\n",
    "        \n",
    "df = pd.DataFrame()\n",
    "\n",
    "with open(dataset_no_figures_path + 'instances_train.jsonl') as f:\n",
    "    for line in f:\n",
    "        instance = json.loads(line)\n",
    "        data = pd.DataFrame({'postText': instance['postText'], 'truthClass': truth_classes[instance['id']]}, index=[instance['id']])\n",
    "        df = df.append(data)\n",
    "        \n",
    "print(df)"
   ]
  },
  {
   "cell_type": "code",
   "execution_count": null,
   "metadata": {},
   "outputs": [],
   "source": [
    "# preprocess the data\n",
    "\n",
    "# TODO remove newlines from postText? (e.g., /n in 17560)"
   ]
  },
  {
   "cell_type": "code",
   "execution_count": 28,
   "metadata": {},
   "outputs": [],
   "source": [
    "# get the features\n",
    "\n",
    "from nltk.tokenize import sent_tokenize, word_tokenize\n",
    "from string import ascii_lowercase, ascii_uppercase\n",
    "import nltk\n",
    "\n",
    "def number_of_words(text):\n",
    "    return len(word_tokenize(text))\n",
    "\n",
    "def number_of_uppercase_words(text):\n",
    "    words = word_tokenize(text)\n",
    "    n_of_uppercase_words = 0\n",
    "    for word in words:\n",
    "        if word[0] in ascii_uppercase:\n",
    "            n_of_uppercase_words += 1\n",
    "    return n_of_uppercase_words\n",
    "\n",
    "def is_exclamation_question_mark_present(text):\n",
    "    return '!' in text or '?' in text\n",
    "\n",
    "def lix(text):\n",
    "    return number_of_words(text) / len(sent_tokenize(text))\n",
    "\n",
    "def rix(text):\n",
    "    lw = 0\n",
    "    words = word_tokenize(text)\n",
    "    for word in words:\n",
    "        if len(word) >= 7:\n",
    "            lw += 1\n",
    "    return lw / len(sent_tokenize(text))\n",
    "\n",
    "# https://en.wikipedia.org/wiki/Coleman%E2%80%93Liau_index\n",
    "def clindex(text):\n",
    "    text_lower = text.lower()\n",
    "    number_of_letters = 0\n",
    "    for character in text_lower:\n",
    "        if character in ascii_lowercase:\n",
    "            number_of_letters += 1\n",
    "    number_of_sentences = len(sent_tokenize(text))\n",
    "    n_of_words = number_of_words(text)\n",
    "#     l = Letters ÷ Words × 100\n",
    "    l = number_of_letters / n_of_words * 100\n",
    "#     s = Sentences ÷ Words × 100\n",
    "    s = number_of_sentences / n_of_words * 100\n",
    "\n",
    "    return 0.0588 * l - 0.296 * s - 15.8"
   ]
  },
  {
   "cell_type": "code",
   "execution_count": 26,
   "metadata": {},
   "outputs": [],
   "source": [
    "# normalize features\n",
    "\n",
    "# TODO get features in range of [0,1] or [-1,1]?\n",
    "# TODO convert all booleans to 0 and 1?"
   ]
  },
  {
   "cell_type": "code",
   "execution_count": null,
   "metadata": {},
   "outputs": [],
   "source": [
    "# create train and test sets"
   ]
  },
  {
   "cell_type": "code",
   "execution_count": null,
   "metadata": {},
   "outputs": [],
   "source": [
    "# create error functions"
   ]
  },
  {
   "cell_type": "code",
   "execution_count": null,
   "metadata": {},
   "outputs": [],
   "source": [
    "# test models\n",
    "\n",
    "# TODO try https://xgboost.ai"
   ]
  }
 ],
 "metadata": {
  "kernelspec": {
   "display_name": "Python 3",
   "language": "python",
   "name": "python3"
  },
  "language_info": {
   "codemirror_mode": {
    "name": "ipython",
    "version": 3
   },
   "file_extension": ".py",
   "mimetype": "text/x-python",
   "name": "python",
   "nbconvert_exporter": "python",
   "pygments_lexer": "ipython3",
   "version": "3.7.0"
  }
 },
 "nbformat": 4,
 "nbformat_minor": 2
}
